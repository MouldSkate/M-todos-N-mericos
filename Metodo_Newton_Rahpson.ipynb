{
  "nbformat": 4,
  "nbformat_minor": 0,
  "metadata": {
    "colab": {
      "name": "Metodo_Newton-Rahpson.ipynb",
      "provenance": [],
      "authorship_tag": "ABX9TyMwll5n7oVL6l3PdanuNTW2",
      "include_colab_link": true
    },
    "kernelspec": {
      "name": "python3",
      "display_name": "Python 3"
    },
    "language_info": {
      "name": "python"
    }
  },
  "cells": [
    {
      "cell_type": "markdown",
      "metadata": {
        "id": "view-in-github",
        "colab_type": "text"
      },
      "source": [
        "<a href=\"https://colab.research.google.com/github/MouldSkate/M-todos-N-mericos/blob/main/Metodo_Newton_Rahpson.ipynb\" target=\"_parent\"><img src=\"https://colab.research.google.com/assets/colab-badge.svg\" alt=\"Open In Colab\"/></a>"
      ]
    },
    {
      "cell_type": "code",
      "metadata": {
        "colab": {
          "base_uri": "https://localhost:8080/"
        },
        "id": "T-kxNrQ-ioxK",
        "outputId": "4167ac2e-a93f-43ff-8935-ee84000e90dd"
      },
      "source": [
        "def f(x):\n",
        "  return (x**3)+(1.71*(x**2))-(26.21*x)-44.82\n",
        "\n",
        "def df(x):\n",
        "  return (3*(x**2))+(3.42*x)-26.21\n",
        "\n",
        "def newton_raphson_method(function,derivative,x,iterations):\n",
        "\n",
        "  for i in range(0,iterations):\n",
        "    x = x - (function(x)/derivative(x))\n",
        "  \n",
        "  return x\n",
        "\n",
        "x = newton_raphson_method(f,df,5,10)\n",
        "print(\"La raíz x1 esta en: \",x)\n",
        "print(\"f(x1)=\",f(x))\n",
        "\n",
        "x = newton_raphson_method(f,df,-5,10)\n",
        "print(\"La raíz x2 esta en: \",x)\n",
        "print(\"f(x2)=\",f(x))\n",
        "\n",
        "x = newton_raphson_method(f,df,-2,10)\n",
        "print(\"La raíz x3 esta en: \",x)\n",
        "print(\"f(x3)=\",f(x))"
      ],
      "execution_count": null,
      "outputs": [
        {
          "output_type": "stream",
          "name": "stdout",
          "text": [
            "La raíz x1 esta en:  5.1195831646373735\n",
            "f(x1)= 2.1316282072803006e-14\n",
            "La raíz x2 esta en:  -5.119544514419474\n",
            "f(x2)= 2.1316282072803006e-14\n",
            "La raíz x3 esta en:  -1.7100386502178995\n",
            "f(x3)= 0.0\n"
          ]
        }
      ]
    },
    {
      "cell_type": "code",
      "metadata": {
        "colab": {
          "base_uri": "https://localhost:8080/"
        },
        "id": "nTLQA3lKMuYR",
        "outputId": "ea3f2071-40a8-4e98-cbfa-8ea08480c01f"
      },
      "source": [
        "def f(x):\n",
        "  return (x**3)+(1.71*(x**2))-(26.21*x)-44.82\n",
        "\n",
        "def df(x):\n",
        "  return (3*(x**2))+(3.42*x)-26.21\n",
        "\n",
        "def newton_raphson_method(function,derivative,x,iterations):\n",
        "\n",
        "  for i in range(0,iterations):\n",
        "    x = x - (function(x)/derivative(x))\n",
        "  \n",
        "  return x\n",
        "\n",
        "for i in range(1,11):\n",
        "  x = newton_raphson_method(f,df,5,i)\n",
        "  print(i, \"iteraciones \\tLa raíz está en: \",x,\"\\tf(x)=\",f(x))"
      ],
      "execution_count": null,
      "outputs": [
        {
          "output_type": "stream",
          "name": "stdout",
          "text": [
            "1 iteraciones \tLa raíz está en:  5.1232356958567316 \tf(x)= 0.2556469688531635\n",
            "2 iteraciones \tLa raíz está en:  5.119586416572409 \tf(x)= 0.0002274059480882329\n",
            "3 iteraciones \tLa raíz está en:  5.1195831646399546 \tf(x)= 1.8052759287456865e-10\n",
            "4 iteraciones \tLa raíz está en:  5.119583164637373 \tf(x)= -3.552713678800501e-14\n",
            "5 iteraciones \tLa raíz está en:  5.1195831646373735 \tf(x)= 2.1316282072803006e-14\n",
            "6 iteraciones \tLa raíz está en:  5.1195831646373735 \tf(x)= 2.1316282072803006e-14\n",
            "7 iteraciones \tLa raíz está en:  5.1195831646373735 \tf(x)= 2.1316282072803006e-14\n",
            "8 iteraciones \tLa raíz está en:  5.1195831646373735 \tf(x)= 2.1316282072803006e-14\n",
            "9 iteraciones \tLa raíz está en:  5.1195831646373735 \tf(x)= 2.1316282072803006e-14\n",
            "10 iteraciones \tLa raíz está en:  5.1195831646373735 \tf(x)= 2.1316282072803006e-14\n"
          ]
        }
      ]
    }
  ]
}